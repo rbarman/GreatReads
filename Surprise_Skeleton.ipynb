{
  "nbformat": 4,
  "nbformat_minor": 0,
  "metadata": {
    "colab": {
      "name": "Surprise_Skeleton",
      "provenance": [],
      "collapsed_sections": [],
      "authorship_tag": "ABX9TyM2hpyKXmw5pOTnudkqlvRw"
    },
    "kernelspec": {
      "name": "python3",
      "display_name": "Python 3"
    },
    "accelerator": "GPU"
  },
  "cells": [
    {
      "cell_type": "code",
      "metadata": {
        "id": "o5Mw9BdNNwBK",
        "colab_type": "code",
        "colab": {
          "base_uri": "https://localhost:8080/",
          "height": 34
        },
        "outputId": "514d8077-5859-49c6-bcab-1f690136cd8d"
      },
      "source": [
        "!git clone https://github.com/rbarman/GreatReads.git"
      ],
      "execution_count": 1,
      "outputs": [
        {
          "output_type": "stream",
          "text": [
            "fatal: destination path 'GreatReads' already exists and is not an empty directory.\n"
          ],
          "name": "stdout"
        }
      ]
    },
    {
      "cell_type": "code",
      "metadata": {
        "id": "l5_afoqOOADP",
        "colab_type": "code",
        "colab": {
          "base_uri": "https://localhost:8080/",
          "height": 122
        },
        "outputId": "394b4402-9399-4881-92de-8520de8efad6"
      },
      "source": [
        "!pip install -r GreatReads/requirements.txt"
      ],
      "execution_count": 2,
      "outputs": [
        {
          "output_type": "stream",
          "text": [
            "Requirement already satisfied: scikit-surprise==1.1.0 in /usr/local/lib/python3.6/dist-packages (from -r GreatReads/requirements.txt (line 1)) (1.1.0)\n",
            "Requirement already satisfied: six>=1.10.0 in /usr/local/lib/python3.6/dist-packages (from scikit-surprise==1.1.0->-r GreatReads/requirements.txt (line 1)) (1.12.0)\n",
            "Requirement already satisfied: joblib>=0.11 in /usr/local/lib/python3.6/dist-packages (from scikit-surprise==1.1.0->-r GreatReads/requirements.txt (line 1)) (0.15.1)\n",
            "Requirement already satisfied: scipy>=1.0.0 in /usr/local/lib/python3.6/dist-packages (from scikit-surprise==1.1.0->-r GreatReads/requirements.txt (line 1)) (1.4.1)\n",
            "Requirement already satisfied: numpy>=1.11.2 in /usr/local/lib/python3.6/dist-packages (from scikit-surprise==1.1.0->-r GreatReads/requirements.txt (line 1)) (1.18.4)\n"
          ],
          "name": "stdout"
        }
      ]
    },
    {
      "cell_type": "code",
      "metadata": {
        "id": "qRCkZleVjsWM",
        "colab_type": "code",
        "colab": {}
      },
      "source": [
        "import sys\n",
        "sys.path.insert(0,'GreatReads/src/')\n",
        "from wrappers import *\n",
        "\n",
        "import pandas as pd\n",
        "import random\n",
        "import numpy as np\n",
        "import random\n",
        "from surprise import SVD, SVDpp, SlopeOne"
      ],
      "execution_count": 0,
      "outputs": []
    },
    {
      "cell_type": "code",
      "metadata": {
        "id": "XUyH6xREjbWf",
        "colab_type": "code",
        "colab": {
          "base_uri": "https://localhost:8080/",
          "height": 34
        },
        "outputId": "9ef0bd2e-3b8b-47bd-847f-01c001021cc0"
      },
      "source": [
        "# https://colab.research.google.com/notebooks/io.ipynb#scrollTo=XDg9OBaYqRMd\n",
        "from google.colab import drive\n",
        "drive.mount('/content/drive')"
      ],
      "execution_count": 4,
      "outputs": [
        {
          "output_type": "stream",
          "text": [
            "Drive already mounted at /content/drive; to attempt to forcibly remount, call drive.mount(\"/content/drive\", force_remount=True).\n"
          ],
          "name": "stdout"
        }
      ]
    },
    {
      "cell_type": "markdown",
      "metadata": {
        "id": "eMHSvE5BPj4C",
        "colab_type": "text"
      },
      "source": [
        "Set seed for reproducibility"
      ]
    },
    {
      "cell_type": "code",
      "metadata": {
        "id": "h01w6K6_ji62",
        "colab_type": "code",
        "colab": {}
      },
      "source": [
        "my_seed = 0\n",
        "random.seed(my_seed)\n",
        "np.random.seed(my_seed)"
      ],
      "execution_count": 0,
      "outputs": []
    },
    {
      "cell_type": "markdown",
      "metadata": {
        "id": "seiyRS6-Pmum",
        "colab_type": "text"
      },
      "source": [
        "Read in data"
      ]
    },
    {
      "cell_type": "code",
      "metadata": {
        "id": "zi9h1U_zjuq4",
        "colab_type": "code",
        "colab": {
          "base_uri": "https://localhost:8080/",
          "height": 34
        },
        "outputId": "b79578d8-dfda-43ae-e9f9-6359a5055938"
      },
      "source": [
        "ratings_df = pd.read_parquet('/content/drive/My Drive/part.0.parquet')\n",
        "ratings_df = ratings_df.sample(n=10000)\n",
        "ratings_df.shape"
      ],
      "execution_count": 6,
      "outputs": [
        {
          "output_type": "execute_result",
          "data": {
            "text/plain": [
              "(10000, 5)"
            ]
          },
          "metadata": {
            "tags": []
          },
          "execution_count": 6
        }
      ]
    },
    {
      "cell_type": "markdown",
      "metadata": {
        "id": "9Hm8WBdBPqyT",
        "colab_type": "text"
      },
      "source": [
        "Skeleton pipeline"
      ]
    },
    {
      "cell_type": "code",
      "metadata": {
        "id": "tth3rdomxzei",
        "colab_type": "code",
        "colab": {
          "base_uri": "https://localhost:8080/",
          "height": 51
        },
        "outputId": "36654b05-5fcf-422c-f631-a05efbf950dd"
      },
      "source": [
        "%%time\n",
        "train_data, test_data = get_train_test_split(ratings_df,(0,5),['user_id','book_id','rating'])"
      ],
      "execution_count": 7,
      "outputs": [
        {
          "output_type": "stream",
          "text": [
            "CPU times: user 35.3 ms, sys: 3.05 ms, total: 38.4 ms\n",
            "Wall time: 38.5 ms\n"
          ],
          "name": "stdout"
        }
      ]
    },
    {
      "cell_type": "code",
      "metadata": {
        "id": "6G31w1KV35sB",
        "colab_type": "code",
        "colab": {
          "base_uri": "https://localhost:8080/",
          "height": 85
        },
        "outputId": "c1296a4f-4e89-4f14-d9ba-1b2d26cb7571"
      },
      "source": [
        "%%time\n",
        "svd_predictions, _ = train_and_evaluate(train_data,test_data,SVD)"
      ],
      "execution_count": 8,
      "outputs": [
        {
          "output_type": "stream",
          "text": [
            "<surprise.prediction_algorithms.matrix_factorization.SVD object at 0x7f321343a7b8>\n",
            "{'RMSE': 1.943745760423969, 'MAE': 1.7834702423896815, 'MSE': 3.778147581166153}\n",
            "CPU times: user 534 ms, sys: 3.64 ms, total: 538 ms\n",
            "Wall time: 539 ms\n"
          ],
          "name": "stdout"
        }
      ]
    },
    {
      "cell_type": "code",
      "metadata": {
        "id": "V69c9QHH4DCP",
        "colab_type": "code",
        "colab": {
          "base_uri": "https://localhost:8080/",
          "height": 85
        },
        "outputId": "5f875de1-0839-4f6d-a513-9c83284180f9"
      },
      "source": [
        "%%time\n",
        "svdpp_predictions, _ = train_and_evaluate(train_data,test_data,SVDpp)"
      ],
      "execution_count": 9,
      "outputs": [
        {
          "output_type": "stream",
          "text": [
            "<surprise.prediction_algorithms.matrix_factorization.SVDpp object at 0x7f321343a8d0>\n",
            "{'RMSE': 1.9301174140130544, 'MAE': 1.7522673271120315, 'MSE': 3.72535323187644}\n",
            "CPU times: user 1.4 s, sys: 6.32 ms, total: 1.4 s\n",
            "Wall time: 1.4 s\n"
          ],
          "name": "stdout"
        }
      ]
    },
    {
      "cell_type": "code",
      "metadata": {
        "id": "eSWgd2RE5TPX",
        "colab_type": "code",
        "colab": {
          "base_uri": "https://localhost:8080/",
          "height": 85
        },
        "outputId": "469e5449-4c9a-4175-cacc-a2bbf5538b7e"
      },
      "source": [
        "%%time\n",
        "slope_predictions, _ = train_and_evaluate(train_data,test_data,SlopeOne)"
      ],
      "execution_count": 10,
      "outputs": [
        {
          "output_type": "stream",
          "text": [
            "<surprise.prediction_algorithms.slope_one.SlopeOne object at 0x7f321343a6d8>\n",
            "{'RMSE': 2.063004610586333, 'MAE': 1.8889765116990307, 'MSE': 4.255988023300468}\n",
            "CPU times: user 1.77 s, sys: 402 ms, total: 2.17 s\n",
            "Wall time: 2.17 s\n"
          ],
          "name": "stdout"
        }
      ]
    },
    {
      "cell_type": "code",
      "metadata": {
        "id": "JuraTIJxQFUF",
        "colab_type": "code",
        "colab": {}
      },
      "source": [
        ""
      ],
      "execution_count": 0,
      "outputs": []
    },
    {
      "cell_type": "code",
      "metadata": {
        "id": "-kB4fAx_Q1iG",
        "colab_type": "code",
        "colab": {}
      },
      "source": [
        ""
      ],
      "execution_count": 0,
      "outputs": []
    }
  ]
}