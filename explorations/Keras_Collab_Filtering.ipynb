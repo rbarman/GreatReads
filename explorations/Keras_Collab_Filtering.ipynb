{
  "nbformat": 4,
  "nbformat_minor": 0,
  "metadata": {
    "colab": {
      "name": "Keras Collab Filtering.ipynb",
      "provenance": [],
      "collapsed_sections": [],
      "authorship_tag": "ABX9TyPYvEfAJNziOl16SWbVsLuY"
    },
    "kernelspec": {
      "name": "python3",
      "display_name": "Python 3"
    }
  },
  "cells": [
    {
      "cell_type": "markdown",
      "metadata": {
        "id": "fAOU2TAob0F_",
        "colab_type": "text"
      },
      "source": [
        "Collaborative filtering with Keras\n",
        "- inspiration - https://keras.io/examples/structured_data/collaborative_filtering_movielens/"
      ]
    },
    {
      "cell_type": "code",
      "metadata": {
        "id": "kfGOt3rjHzX3",
        "colab_type": "code",
        "colab": {}
      },
      "source": [
        "import pandas as pd\n",
        "import random\n",
        "import numpy as np\n",
        "import random\n",
        "import tensorflow as tf\n",
        "from tensorflow import keras\n",
        "from tensorflow.keras import layers\n",
        "import matplotlib.pyplot as plt"
      ],
      "execution_count": 0,
      "outputs": []
    },
    {
      "cell_type": "code",
      "metadata": {
        "id": "jl-uF21XH-oK",
        "colab_type": "code",
        "colab": {
          "base_uri": "https://localhost:8080/",
          "height": 121
        },
        "outputId": "e9c822a0-e06c-430e-9cee-a8a16875aeda"
      },
      "source": [
        "# https://colab.research.google.com/notebooks/io.ipynb#scrollTo=XDg9OBaYqRMd\n",
        "from google.colab import drive\n",
        "drive.mount('/content/drive')"
      ],
      "execution_count": 2,
      "outputs": [
        {
          "output_type": "stream",
          "text": [
            "Go to this URL in a browser: https://accounts.google.com/o/oauth2/auth?client_id=947318989803-6bn6qk8qdgf4n4g3pfee6491hc0brc4i.apps.googleusercontent.com&redirect_uri=urn%3aietf%3awg%3aoauth%3a2.0%3aoob&response_type=code&scope=email%20https%3a%2f%2fwww.googleapis.com%2fauth%2fdocs.test%20https%3a%2f%2fwww.googleapis.com%2fauth%2fdrive%20https%3a%2f%2fwww.googleapis.com%2fauth%2fdrive.photos.readonly%20https%3a%2f%2fwww.googleapis.com%2fauth%2fpeopleapi.readonly\n",
            "\n",
            "Enter your authorization code:\n",
            "··········\n",
            "Mounted at /content/drive\n"
          ],
          "name": "stdout"
        }
      ]
    },
    {
      "cell_type": "markdown",
      "metadata": {
        "id": "msjiHvl9b-R-",
        "colab_type": "text"
      },
      "source": [
        "Seed for reproducibility"
      ]
    },
    {
      "cell_type": "code",
      "metadata": {
        "id": "Xy9rAynPIFX9",
        "colab_type": "code",
        "colab": {}
      },
      "source": [
        "my_seed = 0\n",
        "random.seed(my_seed)\n",
        "np.random.seed(my_seed)"
      ],
      "execution_count": 0,
      "outputs": []
    },
    {
      "cell_type": "markdown",
      "metadata": {
        "id": "zRMfbIGMcEX_",
        "colab_type": "text"
      },
      "source": [
        "Read Data + perform some preprocessing steps"
      ]
    },
    {
      "cell_type": "code",
      "metadata": {
        "id": "oIgw-AjvIKML",
        "colab_type": "code",
        "colab": {
          "base_uri": "https://localhost:8080/",
          "height": 242
        },
        "outputId": "d99ad03d-556d-4e24-9645-8fd5656b60b5"
      },
      "source": [
        "ratings_df = pd.read_parquet('/content/drive/My Drive/part.0.parquet')\n",
        "\n",
        "# subset to records with a rating\n",
        "  # unclear how to train with unrated items\n",
        "ratings_df = ratings_df[ratings_df['rating'] > 0]\n",
        "\n",
        "ratings_df = ratings_df.sample(n=100000)\n",
        "print(ratings_df.shape)\n",
        "ratings_df.head()"
      ],
      "execution_count": 4,
      "outputs": [
        {
          "output_type": "stream",
          "text": [
            "(100000, 5)\n"
          ],
          "name": "stdout"
        },
        {
          "output_type": "execute_result",
          "data": {
            "text/html": [
              "<div>\n",
              "<style scoped>\n",
              "    .dataframe tbody tr th:only-of-type {\n",
              "        vertical-align: middle;\n",
              "    }\n",
              "\n",
              "    .dataframe tbody tr th {\n",
              "        vertical-align: top;\n",
              "    }\n",
              "\n",
              "    .dataframe thead th {\n",
              "        text-align: right;\n",
              "    }\n",
              "</style>\n",
              "<table border=\"1\" class=\"dataframe\">\n",
              "  <thead>\n",
              "    <tr style=\"text-align: right;\">\n",
              "      <th></th>\n",
              "      <th>user_id</th>\n",
              "      <th>book_id</th>\n",
              "      <th>is_read</th>\n",
              "      <th>rating</th>\n",
              "      <th>is_reviewed</th>\n",
              "    </tr>\n",
              "    <tr>\n",
              "      <th>index</th>\n",
              "      <th></th>\n",
              "      <th></th>\n",
              "      <th></th>\n",
              "      <th></th>\n",
              "      <th></th>\n",
              "    </tr>\n",
              "  </thead>\n",
              "  <tbody>\n",
              "    <tr>\n",
              "      <th>2870594</th>\n",
              "      <td>5685</td>\n",
              "      <td>570143</td>\n",
              "      <td>1</td>\n",
              "      <td>1</td>\n",
              "      <td>0</td>\n",
              "    </tr>\n",
              "    <tr>\n",
              "      <th>75879</th>\n",
              "      <td>174</td>\n",
              "      <td>7600</td>\n",
              "      <td>1</td>\n",
              "      <td>5</td>\n",
              "      <td>1</td>\n",
              "    </tr>\n",
              "    <tr>\n",
              "      <th>2456344</th>\n",
              "      <td>4886</td>\n",
              "      <td>634</td>\n",
              "      <td>1</td>\n",
              "      <td>3</td>\n",
              "      <td>0</td>\n",
              "    </tr>\n",
              "    <tr>\n",
              "      <th>453947</th>\n",
              "      <td>932</td>\n",
              "      <td>7476</td>\n",
              "      <td>1</td>\n",
              "      <td>3</td>\n",
              "      <td>0</td>\n",
              "    </tr>\n",
              "    <tr>\n",
              "      <th>2596614</th>\n",
              "      <td>5134</td>\n",
              "      <td>6510</td>\n",
              "      <td>1</td>\n",
              "      <td>4</td>\n",
              "      <td>0</td>\n",
              "    </tr>\n",
              "  </tbody>\n",
              "</table>\n",
              "</div>"
            ],
            "text/plain": [
              "         user_id  book_id  is_read  rating  is_reviewed\n",
              "index                                                  \n",
              "2870594     5685   570143        1       1            0\n",
              "75879        174     7600        1       5            1\n",
              "2456344     4886      634        1       3            0\n",
              "453947       932     7476        1       3            0\n",
              "2596614     5134     6510        1       4            0"
            ]
          },
          "metadata": {
            "tags": []
          },
          "execution_count": 4
        }
      ]
    },
    {
      "cell_type": "markdown",
      "metadata": {
        "id": "JRvM_nVEe3vW",
        "colab_type": "text"
      },
      "source": [
        "Encode users and books as integer indices"
      ]
    },
    {
      "cell_type": "code",
      "metadata": {
        "id": "GnV8yAnZeyvr",
        "colab_type": "code",
        "colab": {
          "base_uri": "https://localhost:8080/",
          "height": 225
        },
        "outputId": "649bb529-70d8-46e2-9efb-d118ff123ef5"
      },
      "source": [
        "# random shuffle\n",
        "df = ratings_df.sample(frac=1)\n",
        "\n",
        "# encode users and books\n",
        "user_ids = df[\"user_id\"].unique().tolist()\n",
        "user2user_encoded = {x: i for i, x in enumerate(user_ids)}\n",
        "userencoded2user = {i: x for i, x in enumerate(user_ids)}\n",
        "book_ids = df[\"book_id\"].unique().tolist()\n",
        "book2book_encoded = {x: i for i, x in enumerate(book_ids)}\n",
        "df[\"user\"] = df[\"user_id\"].map(user2user_encoded)\n",
        "df[\"book\"] = df[\"book_id\"].map(book2book_encoded)\n",
        "\n",
        "df.head()"
      ],
      "execution_count": 5,
      "outputs": [
        {
          "output_type": "execute_result",
          "data": {
            "text/html": [
              "<div>\n",
              "<style scoped>\n",
              "    .dataframe tbody tr th:only-of-type {\n",
              "        vertical-align: middle;\n",
              "    }\n",
              "\n",
              "    .dataframe tbody tr th {\n",
              "        vertical-align: top;\n",
              "    }\n",
              "\n",
              "    .dataframe thead th {\n",
              "        text-align: right;\n",
              "    }\n",
              "</style>\n",
              "<table border=\"1\" class=\"dataframe\">\n",
              "  <thead>\n",
              "    <tr style=\"text-align: right;\">\n",
              "      <th></th>\n",
              "      <th>user_id</th>\n",
              "      <th>book_id</th>\n",
              "      <th>is_read</th>\n",
              "      <th>rating</th>\n",
              "      <th>is_reviewed</th>\n",
              "      <th>user</th>\n",
              "      <th>book</th>\n",
              "    </tr>\n",
              "    <tr>\n",
              "      <th>index</th>\n",
              "      <th></th>\n",
              "      <th></th>\n",
              "      <th></th>\n",
              "      <th></th>\n",
              "      <th></th>\n",
              "      <th></th>\n",
              "      <th></th>\n",
              "    </tr>\n",
              "  </thead>\n",
              "  <tbody>\n",
              "    <tr>\n",
              "      <th>3711539</th>\n",
              "      <td>7315</td>\n",
              "      <td>41144</td>\n",
              "      <td>1</td>\n",
              "      <td>5</td>\n",
              "      <td>0</td>\n",
              "      <td>0</td>\n",
              "      <td>0</td>\n",
              "    </tr>\n",
              "    <tr>\n",
              "      <th>1505815</th>\n",
              "      <td>2991</td>\n",
              "      <td>14907</td>\n",
              "      <td>1</td>\n",
              "      <td>5</td>\n",
              "      <td>0</td>\n",
              "      <td>1</td>\n",
              "      <td>1</td>\n",
              "    </tr>\n",
              "    <tr>\n",
              "      <th>136070</th>\n",
              "      <td>311</td>\n",
              "      <td>74094</td>\n",
              "      <td>1</td>\n",
              "      <td>3</td>\n",
              "      <td>0</td>\n",
              "      <td>2</td>\n",
              "      <td>2</td>\n",
              "    </tr>\n",
              "    <tr>\n",
              "      <th>317503</th>\n",
              "      <td>659</td>\n",
              "      <td>135673</td>\n",
              "      <td>1</td>\n",
              "      <td>3</td>\n",
              "      <td>0</td>\n",
              "      <td>3</td>\n",
              "      <td>3</td>\n",
              "    </tr>\n",
              "    <tr>\n",
              "      <th>1628068</th>\n",
              "      <td>3215</td>\n",
              "      <td>48272</td>\n",
              "      <td>1</td>\n",
              "      <td>5</td>\n",
              "      <td>0</td>\n",
              "      <td>4</td>\n",
              "      <td>4</td>\n",
              "    </tr>\n",
              "  </tbody>\n",
              "</table>\n",
              "</div>"
            ],
            "text/plain": [
              "         user_id  book_id  is_read  rating  is_reviewed  user  book\n",
              "index                                                              \n",
              "3711539     7315    41144        1       5            0     0     0\n",
              "1505815     2991    14907        1       5            0     1     1\n",
              "136070       311    74094        1       3            0     2     2\n",
              "317503       659   135673        1       3            0     3     3\n",
              "1628068     3215    48272        1       5            0     4     4"
            ]
          },
          "metadata": {
            "tags": []
          },
          "execution_count": 5
        }
      ]
    },
    {
      "cell_type": "code",
      "metadata": {
        "id": "a9hJdWo2I2Uy",
        "colab_type": "code",
        "colab": {}
      },
      "source": [
        "x = df[[\"user\", \"book\"]].values\n",
        "\n",
        "# Normalize the book ratings between 0 and 1.\n",
        "min_rating = min(df[\"rating\"])\n",
        "max_rating = max(df[\"rating\"])\n",
        "y = df[\"rating\"].apply(lambda x: (x - min_rating) / (max_rating - min_rating)).values\n",
        "\n",
        "# Assuming training on 90% of the data and validating on 10%.\n",
        "train_indices = int(0.9 * df.shape[0])\n",
        "x_train, x_val, y_train, y_val = (\n",
        "    x[:train_indices],\n",
        "    x[train_indices:],\n",
        "    y[:train_indices],\n",
        "    y[train_indices:],\n",
        ")"
      ],
      "execution_count": 0,
      "outputs": []
    },
    {
      "cell_type": "code",
      "metadata": {
        "id": "KgEGcEK4JUlX",
        "colab_type": "code",
        "colab": {}
      },
      "source": [
        "EMBEDDING_SIZE = 50\n",
        "num_users = len(set(ratings_df['user_id']))\n",
        "num_books = len(set(ratings_df['book_id']))\n",
        "\n",
        "class RecommenderNet(keras.Model):\n",
        "    def __init__(self, num_users, num_movies, embedding_size, **kwargs):\n",
        "        super(RecommenderNet, self).__init__(**kwargs)\n",
        "        self.num_users = num_users\n",
        "        self.num_movies = num_movies\n",
        "        self.embedding_size = embedding_size\n",
        "        self.user_embedding = layers.Embedding(\n",
        "            num_users,\n",
        "            embedding_size,\n",
        "            embeddings_initializer=\"he_normal\",\n",
        "            embeddings_regularizer=keras.regularizers.l2(1e-6),\n",
        "        )\n",
        "        self.user_bias = layers.Embedding(num_users, 1)\n",
        "        self.movie_embedding = layers.Embedding(\n",
        "            num_movies,\n",
        "            embedding_size,\n",
        "            embeddings_initializer=\"he_normal\",\n",
        "            embeddings_regularizer=keras.regularizers.l2(1e-6),\n",
        "        )\n",
        "        self.movie_bias = layers.Embedding(num_movies, 1)\n",
        "\n",
        "    def call(self, inputs):\n",
        "        user_vector = self.user_embedding(inputs[:, 0])\n",
        "        user_bias = self.user_bias(inputs[:, 0])\n",
        "        movie_vector = self.movie_embedding(inputs[:, 1])\n",
        "        movie_bias = self.movie_bias(inputs[:, 1])\n",
        "        dot_user_movie = tf.tensordot(user_vector, movie_vector, 2)\n",
        "        # Add all the components (including bias)\n",
        "        x = dot_user_movie + user_bias + movie_bias\n",
        "        # The sigmoid activation forces the rating to between 0 and 1\n",
        "        return tf.nn.sigmoid(x)\n",
        "\n",
        "\n",
        "model = RecommenderNet(num_users, num_books, EMBEDDING_SIZE)\n",
        "model.compile(\n",
        "    loss=tf.keras.losses.BinaryCrossentropy(), optimizer=keras.optimizers.Adam(lr=0.001)\n",
        "    ,metrics=[tf.keras.metrics.RootMeanSquaredError(name='RMSE')]\n",
        ")"
      ],
      "execution_count": 0,
      "outputs": []
    },
    {
      "cell_type": "code",
      "metadata": {
        "id": "_p-kkFRZJZ0Y",
        "colab_type": "code",
        "colab": {
          "base_uri": "https://localhost:8080/",
          "height": 205
        },
        "outputId": "bf8ea471-65f7-46aa-ae1e-8164cee2bd30"
      },
      "source": [
        "history = model.fit(\n",
        "    x=x_train,\n",
        "    y=y_train,\n",
        "    batch_size=64,\n",
        "    epochs=5,\n",
        "    verbose=1,\n",
        "    validation_data=(x_val, y_val),\n",
        ")"
      ],
      "execution_count": 8,
      "outputs": [
        {
          "output_type": "stream",
          "text": [
            "Epoch 1/5\n",
            "1407/1407 [==============================] - 30s 21ms/step - loss: 0.6678 - RMSE: 0.3129 - val_loss: 0.6123 - val_RMSE: 0.2655\n",
            "Epoch 2/5\n",
            "1407/1407 [==============================] - 30s 21ms/step - loss: 0.5869 - RMSE: 0.2414 - val_loss: 0.6425 - val_RMSE: 0.2914\n",
            "Epoch 3/5\n",
            "1407/1407 [==============================] - 30s 21ms/step - loss: 0.5737 - RMSE: 0.2311 - val_loss: 0.6322 - val_RMSE: 0.2822\n",
            "Epoch 4/5\n",
            "1407/1407 [==============================] - 29s 21ms/step - loss: 0.5707 - RMSE: 0.2278 - val_loss: 0.6356 - val_RMSE: 0.2844\n",
            "Epoch 5/5\n",
            "1407/1407 [==============================] - 30s 21ms/step - loss: 0.5761 - RMSE: 0.2315 - val_loss: 0.6347 - val_RMSE: 0.2828\n"
          ],
          "name": "stdout"
        }
      ]
    },
    {
      "cell_type": "code",
      "metadata": {
        "id": "4NV28dIFJnQ5",
        "colab_type": "code",
        "colab": {
          "base_uri": "https://localhost:8080/",
          "height": 295
        },
        "outputId": "1a835f84-9ff4-430c-d567-118bab5c69f8"
      },
      "source": [
        "plt.plot(history.history[\"loss\"])\n",
        "plt.plot(history.history[\"val_loss\"])\n",
        "plt.title(\"model loss\")\n",
        "plt.ylabel(\"loss\")\n",
        "plt.xlabel(\"epoch\")\n",
        "plt.legend([\"train\", \"test\"], loc=\"upper left\")\n",
        "plt.show()\n"
      ],
      "execution_count": 9,
      "outputs": [
        {
          "output_type": "display_data",
          "data": {
            "image/png": "[encoded data removed]",
            "text/plain": [
              "<Figure size 432x288 with 1 Axes>"
            ]
          },
          "metadata": {
            "tags": [],
            "needs_background": "light"
          }
        }
      ]
    },
    {
      "cell_type": "markdown",
      "metadata": {
        "id": "UMdgLFQWdYWm",
        "colab_type": "text"
      },
      "source": [
        "Model required us to normalize the rating values. How to interpret the RMSE of normalized rating values?\n",
        "\n",
        "For now, de denormalize predictions and actual values and then calculate RMSE"
      ]
    },
    {
      "cell_type": "code",
      "metadata": {
        "id": "3P5peU2fbF20",
        "colab_type": "code",
        "colab": {
          "base_uri": "https://localhost:8080/",
          "height": 34
        },
        "outputId": "8d327a4f-8673-4c10-9726-1daf24d58222"
      },
      "source": [
        "predictions = model.predict(x_val)\n",
        "\n",
        "# de normalize values\n",
        "real_vals = (y_val*(max_rating - min_rating)) + min_rating\n",
        "\n",
        "predictions = predictions.reshape(len(x_val),)\n",
        "real_predictions = (predictions*(max_rating - min_rating)) + min_rating\n",
        "\n",
        "# RMSE\n",
        "np.sqrt(np.mean(real_vals - real_predictions))"
      ],
      "execution_count": 10,
      "outputs": [
        {
          "output_type": "execute_result",
          "data": {
            "text/plain": [
              "0.8443889696884257"
            ]
          },
          "metadata": {
            "tags": []
          },
          "execution_count": 10
        }
      ]
    },
    {
      "cell_type": "code",
      "metadata": {
        "id": "0oMifg-KgsqC",
        "colab_type": "code",
        "colab": {}
      },
      "source": [
        ""
      ],
      "execution_count": 0,
      "outputs": []
    },
    {
      "cell_type": "markdown",
      "metadata": {
        "id": "RmIAaycYgwlg",
        "colab_type": "text"
      },
      "source": [
        "Train/val loss graphs show overfitting\n",
        "\n",
        "However interesting that only 5 epochs beats the RMSEs of default Surprise algorithms.\n",
        "\n"
      ]
    },
    {
      "cell_type": "code",
      "metadata": {
        "id": "oGi7S-nXiHSv",
        "colab_type": "code",
        "colab": {}
      },
      "source": [
        ""
      ],
      "execution_count": 0,
      "outputs": []
    }
  ]
}