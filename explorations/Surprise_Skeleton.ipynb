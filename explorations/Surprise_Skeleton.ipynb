{
  "nbformat": 4,
  "nbformat_minor": 0,
  "metadata": {
    "colab": {
      "name": "Surprise_Skeleton",
      "provenance": [],
      "collapsed_sections": [],
      "authorship_tag": "ABX9TyMLSO4aInqcuuA6E8PN/SVN",
      "include_colab_link": true
    },
    "kernelspec": {
      "name": "python3",
      "display_name": "Python 3"
    },
    "accelerator": "GPU"
  },
  "cells": [
    {
      "cell_type": "markdown",
      "metadata": {
        "id": "view-in-github",
        "colab_type": "text"
      },
      "source": [
        "<a href=\"https://colab.research.google.com/github/rbarman/GreatReads/blob/master/Surprise_Skeleton.ipynb\" target=\"_parent\"><img src=\"https://colab.research.google.com/assets/colab-badge.svg\" alt=\"Open In Colab\"/></a>"
      ]
    },
    {
      "cell_type": "code",
      "metadata": {
        "id": "o5Mw9BdNNwBK",
        "colab_type": "code",
        "colab": {
          "base_uri": "https://localhost:8080/",
          "height": 34
        },
        "outputId": "360f02b4-6e5a-4ce5-e24b-40e300535f82"
      },
      "source": [
        "!git clone https://github.com/rbarman/GreatReads.git"
      ],
      "execution_count": 22,
      "outputs": [
        {
          "output_type": "stream",
          "text": [
            "fatal: destination path 'GreatReads' already exists and is not an empty directory.\n"
          ],
          "name": "stdout"
        }
      ]
    },
    {
      "cell_type": "code",
      "metadata": {
        "id": "l5_afoqOOADP",
        "colab_type": "code",
        "colab": {
          "base_uri": "https://localhost:8080/",
          "height": 122
        },
        "outputId": "67192a72-0c9f-4f13-c313-967ad531b47b"
      },
      "source": [
        "!pip install -r GreatReads/requirements.txt"
      ],
      "execution_count": 23,
      "outputs": [
        {
          "output_type": "stream",
          "text": [
            "Requirement already satisfied: scikit-surprise==1.1.0 in /usr/local/lib/python3.6/dist-packages (from -r GreatReads/requirements.txt (line 1)) (1.1.0)\n",
            "Requirement already satisfied: numpy>=1.11.2 in /usr/local/lib/python3.6/dist-packages (from scikit-surprise==1.1.0->-r GreatReads/requirements.txt (line 1)) (1.18.4)\n",
            "Requirement already satisfied: scipy>=1.0.0 in /usr/local/lib/python3.6/dist-packages (from scikit-surprise==1.1.0->-r GreatReads/requirements.txt (line 1)) (1.4.1)\n",
            "Requirement already satisfied: joblib>=0.11 in /usr/local/lib/python3.6/dist-packages (from scikit-surprise==1.1.0->-r GreatReads/requirements.txt (line 1)) (0.15.1)\n",
            "Requirement already satisfied: six>=1.10.0 in /usr/local/lib/python3.6/dist-packages (from scikit-surprise==1.1.0->-r GreatReads/requirements.txt (line 1)) (1.12.0)\n"
          ],
          "name": "stdout"
        }
      ]
    },
    {
      "cell_type": "code",
      "metadata": {
        "id": "qRCkZleVjsWM",
        "colab_type": "code",
        "colab": {}
      },
      "source": [
        "import sys\n",
        "sys.path.insert(0,'GreatReads/src/')\n",
        "from wrappers import *\n",
        "\n",
        "import pandas as pd\n",
        "import random\n",
        "import numpy as np\n",
        "import random\n",
        "from surprise import SVD, SVDpp, SlopeOne"
      ],
      "execution_count": 0,
      "outputs": []
    },
    {
      "cell_type": "code",
      "metadata": {
        "id": "XUyH6xREjbWf",
        "colab_type": "code",
        "colab": {
          "base_uri": "https://localhost:8080/",
          "height": 34
        },
        "outputId": "ef6418f6-e1f5-4a50-87c4-f3921f7ab950"
      },
      "source": [
        "# https://colab.research.google.com/notebooks/io.ipynb#scrollTo=XDg9OBaYqRMd\n",
        "from google.colab import drive\n",
        "drive.mount('/content/drive')"
      ],
      "execution_count": 25,
      "outputs": [
        {
          "output_type": "stream",
          "text": [
            "Drive already mounted at /content/drive; to attempt to forcibly remount, call drive.mount(\"/content/drive\", force_remount=True).\n"
          ],
          "name": "stdout"
        }
      ]
    },
    {
      "cell_type": "markdown",
      "metadata": {
        "id": "eMHSvE5BPj4C",
        "colab_type": "text"
      },
      "source": [
        "Set seed for reproducibility"
      ]
    },
    {
      "cell_type": "code",
      "metadata": {
        "id": "h01w6K6_ji62",
        "colab_type": "code",
        "colab": {}
      },
      "source": [
        "my_seed = 0\n",
        "random.seed(my_seed)\n",
        "np.random.seed(my_seed)"
      ],
      "execution_count": 0,
      "outputs": []
    },
    {
      "cell_type": "markdown",
      "metadata": {
        "id": "seiyRS6-Pmum",
        "colab_type": "text"
      },
      "source": [
        "Read in data"
      ]
    },
    {
      "cell_type": "code",
      "metadata": {
        "id": "zi9h1U_zjuq4",
        "colab_type": "code",
        "colab": {
          "base_uri": "https://localhost:8080/",
          "height": 34
        },
        "outputId": "1711f20a-4633-4ab8-d62d-769fdfc600ff"
      },
      "source": [
        "ratings_df = pd.read_parquet('/content/drive/My Drive/part.0.parquet')\n",
        "\n",
        "# TODO: unclear how to communicate unrated items to Surprise... \n",
        "  # I don't think filtering to only rated items is the best approach\n",
        "ratings_df = ratings_df[ratings_df['rating'] > 0]\n",
        "ratings_df = ratings_df.sample(n=10000)\n",
        "ratings_df.shape"
      ],
      "execution_count": 27,
      "outputs": [
        {
          "output_type": "execute_result",
          "data": {
            "text/plain": [
              "(10000, 5)"
            ]
          },
          "metadata": {
            "tags": []
          },
          "execution_count": 27
        }
      ]
    },
    {
      "cell_type": "markdown",
      "metadata": {
        "id": "9Hm8WBdBPqyT",
        "colab_type": "text"
      },
      "source": [
        "Skeleton pipeline"
      ]
    },
    {
      "cell_type": "code",
      "metadata": {
        "id": "tth3rdomxzei",
        "colab_type": "code",
        "colab": {
          "base_uri": "https://localhost:8080/",
          "height": 51
        },
        "outputId": "9e4b760f-b05b-4be4-ea34-c085f3c1cbb3"
      },
      "source": [
        "%%time\n",
        "train_data, test_data = get_train_test_split(ratings_df,(1,5),['user_id','book_id','rating'])"
      ],
      "execution_count": 28,
      "outputs": [
        {
          "output_type": "stream",
          "text": [
            "CPU times: user 93.5 ms, sys: 7.05 ms, total: 101 ms\n",
            "Wall time: 102 ms\n"
          ],
          "name": "stdout"
        }
      ]
    },
    {
      "cell_type": "code",
      "metadata": {
        "id": "eNP3faToTTne",
        "colab_type": "code",
        "colab": {
          "base_uri": "https://localhost:8080/",
          "height": 85
        },
        "outputId": "2515fc88-3756-47b1-c247-5c2e647d514f"
      },
      "source": [
        "%%time\n",
        "svd_predictions, _ = train_and_evaluate(train_data,test_data,SVD)"
      ],
      "execution_count": 29,
      "outputs": [
        {
          "output_type": "stream",
          "text": [
            "<surprise.prediction_algorithms.matrix_factorization.SVD object at 0x7f32113c5438>\n",
            "{'RMSE': 0.9584306106753375, 'MAE': 0.7570838803259418, 'MSE': 0.9185892354795003}\n",
            "CPU times: user 589 ms, sys: 2.68 ms, total: 591 ms\n",
            "Wall time: 596 ms\n"
          ],
          "name": "stdout"
        }
      ]
    },
    {
      "cell_type": "code",
      "metadata": {
        "id": "V69c9QHH4DCP",
        "colab_type": "code",
        "colab": {
          "base_uri": "https://localhost:8080/",
          "height": 85
        },
        "outputId": "07f42d56-a51d-4519-a93c-982b7c003168"
      },
      "source": [
        "%%time\n",
        "svdpp_predictions, _ = train_and_evaluate(train_data,test_data,SVDpp)"
      ],
      "execution_count": 30,
      "outputs": [
        {
          "output_type": "stream",
          "text": [
            "<surprise.prediction_algorithms.matrix_factorization.SVDpp object at 0x7f32113c5438>\n",
            "{'RMSE': 0.9523652567230361, 'MAE': 0.7533650129766949, 'MSE': 0.9069995822131345}\n",
            "CPU times: user 1.23 s, sys: 573 µs, total: 1.23 s\n",
            "Wall time: 1.23 s\n"
          ],
          "name": "stdout"
        }
      ]
    },
    {
      "cell_type": "code",
      "metadata": {
        "id": "eSWgd2RE5TPX",
        "colab_type": "code",
        "colab": {
          "base_uri": "https://localhost:8080/",
          "height": 85
        },
        "outputId": "500e466b-f9da-4b28-c9cb-b5352b672e53"
      },
      "source": [
        "%%time\n",
        "slope_predictions, _ = train_and_evaluate(train_data,test_data,SlopeOne)"
      ],
      "execution_count": 31,
      "outputs": [
        {
          "output_type": "stream",
          "text": [
            "<surprise.prediction_algorithms.slope_one.SlopeOne object at 0x7f32113c5438>\n",
            "{'RMSE': 1.0157725208562518, 'MAE': 0.7993539619883039, 'MSE': 1.0317938141266645}\n",
            "CPU times: user 1.59 s, sys: 150 ms, total: 1.74 s\n",
            "Wall time: 1.74 s\n"
          ],
          "name": "stdout"
        }
      ]
    },
    {
      "cell_type": "code",
      "metadata": {
        "id": "WUGCh8vSVGPP",
        "colab_type": "code",
        "colab": {}
      },
      "source": [
        ""
      ],
      "execution_count": 0,
      "outputs": []
    },
    {
      "cell_type": "code",
      "metadata": {
        "id": "7LN3stpQVGNP",
        "colab_type": "code",
        "colab": {
          "base_uri": "https://localhost:8080/",
          "height": 187
        },
        "outputId": "6cee2397-ebb1-4d91-b301-b826b1da878d"
      },
      "source": [
        "svdpp_predictions[0:10]"
      ],
      "execution_count": 32,
      "outputs": [
        {
          "output_type": "execute_result",
          "data": {
            "text/plain": [
              "[Prediction(uid=3105, iid=791, r_ui=5.0, est=4.058764673076454, details={'was_impossible': False}),\n",
              " Prediction(uid=2689, iid=20894, r_ui=4.0, est=4.123299699859901, details={'was_impossible': False}),\n",
              " Prediction(uid=4130, iid=51227, r_ui=4.0, est=4.036762017258196, details={'was_impossible': False}),\n",
              " Prediction(uid=6618, iid=1525, r_ui=4.0, est=3.3783763875310284, details={'was_impossible': False}),\n",
              " Prediction(uid=1691, iid=57221, r_ui=4.0, est=3.9121447512711995, details={'was_impossible': False}),\n",
              " Prediction(uid=5741, iid=19072, r_ui=5.0, est=3.9997275369546204, details={'was_impossible': False}),\n",
              " Prediction(uid=4100, iid=8410, r_ui=3.0, est=3.9203675506381503, details={'was_impossible': False}),\n",
              " Prediction(uid=3436, iid=968, r_ui=3.0, est=4.170395245180579, details={'was_impossible': False}),\n",
              " Prediction(uid=1784, iid=22650, r_ui=3.0, est=3.6743341230308264, details={'was_impossible': False}),\n",
              " Prediction(uid=112, iid=6610, r_ui=4.0, est=3.89, details={'was_impossible': False})]"
            ]
          },
          "metadata": {
            "tags": []
          },
          "execution_count": 32
        }
      ]
    },
    {
      "cell_type": "code",
      "metadata": {
        "id": "oa1vEcgVVHis",
        "colab_type": "code",
        "colab": {}
      },
      "source": [
        ""
      ],
      "execution_count": 0,
      "outputs": []
    }
  ]
}