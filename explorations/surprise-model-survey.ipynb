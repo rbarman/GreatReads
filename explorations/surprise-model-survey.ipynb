{
 "cells": [
  {
   "cell_type": "markdown",
   "metadata": {},
   "source": [
    "Survey of Surprise default algos on 100k sample"
   ]
  },
  {
   "cell_type": "code",
   "execution_count": 1,
   "metadata": {
    "_cell_guid": "b1076dfc-b9ad-4769-8c92-a6c4dae69d19",
    "_uuid": "8f2839f25d086af736a60e9eeb907d3b93b6e0e5"
   },
   "outputs": [
    {
     "name": "stdout",
     "output_type": "stream",
     "text": [
      "Cloning into 'GreatReads'...\r\n",
      "remote: Enumerating objects: 20, done.\u001b[K\r\n",
      "remote: Counting objects: 100% (20/20), done.\u001b[K\r\n",
      "remote: Compressing objects: 100% (13/13), done.\u001b[K\r\n",
      "remote: Total 20 (delta 5), reused 11 (delta 2), pack-reused 0\u001b[K\r\n",
      "Unpacking objects: 100% (20/20), done.\r\n"
     ]
    }
   ],
   "source": [
    "!git clone https://github.com/rbarman/GreatReads.git"
   ]
  },
  {
   "cell_type": "code",
   "execution_count": 2,
   "metadata": {
    "_cell_guid": "79c7e3d0-c299-4dcb-8224-4455121ee9b0",
    "_uuid": "d629ff2d2480ee46fbb7e2d37f6b5fab8052498a"
   },
   "outputs": [
    {
     "name": "stdout",
     "output_type": "stream",
     "text": [
      "Requirement already satisfied: scikit-surprise==1.1.0 in /opt/conda/lib/python3.7/site-packages (from -r GreatReads/requirements.txt (line 1)) (1.1.0)\r\n",
      "Requirement already satisfied: numpy>=1.11.2 in /opt/conda/lib/python3.7/site-packages (from scikit-surprise==1.1.0->-r GreatReads/requirements.txt (line 1)) (1.18.1)\r\n",
      "Requirement already satisfied: scipy>=1.0.0 in /opt/conda/lib/python3.7/site-packages (from scikit-surprise==1.1.0->-r GreatReads/requirements.txt (line 1)) (1.4.1)\r\n",
      "Requirement already satisfied: six>=1.10.0 in /opt/conda/lib/python3.7/site-packages (from scikit-surprise==1.1.0->-r GreatReads/requirements.txt (line 1)) (1.14.0)\r\n",
      "Requirement already satisfied: joblib>=0.11 in /opt/conda/lib/python3.7/site-packages (from scikit-surprise==1.1.0->-r GreatReads/requirements.txt (line 1)) (0.14.1)\r\n",
      "\u001b[33mWARNING: You are using pip version 20.1; however, version 20.1.1 is available.\r\n",
      "You should consider upgrading via the '/opt/conda/bin/python3.7 -m pip install --upgrade pip' command.\u001b[0m\r\n"
     ]
    }
   ],
   "source": [
    "!pip install -r GreatReads/requirements.txt"
   ]
  },
  {
   "cell_type": "code",
   "execution_count": 3,
   "metadata": {},
   "outputs": [],
   "source": [
    "import sys\n",
    "sys.path.insert(0,'GreatReads/src/')\n",
    "from wrappers import *\n",
    "import gc\n",
    "import pandas as pd\n",
    "import random\n",
    "import numpy as np\n",
    "import random\n",
    "from surprise import SVD, NMF, SVDpp\n",
    "from surprise import KNNBasic, KNNWithMeans, KNNWithZScore, KNNBaseline, SlopeOne,CoClustering"
   ]
  },
  {
   "cell_type": "code",
   "execution_count": 4,
   "metadata": {},
   "outputs": [
    {
     "data": {
      "text/plain": [
       "(100000, 5)"
      ]
     },
     "execution_count": 4,
     "metadata": {},
     "output_type": "execute_result"
    }
   ],
   "source": [
    "# ratings_df = pd.read_parquet('/content/drive/My Drive/part.0.parquet')\n",
    "ratings_df = pd.read_parquet('../input/good-reads-sample/part.0.parquet')\n",
    "\n",
    "# TODO: unclear how to communicate unrated items to Surprise... \n",
    "  # I don't think filtering to only rated items is the best approach\n",
    "ratings_df = ratings_df[ratings_df['rating'] > 0]\n",
    "ratings_df = ratings_df.sample(n=100000)\n",
    "ratings_df.shape"
   ]
  },
  {
   "cell_type": "code",
   "execution_count": 5,
   "metadata": {},
   "outputs": [
    {
     "name": "stdout",
     "output_type": "stream",
     "text": [
      "CPU times: user 534 ms, sys: 35.3 ms, total: 570 ms\n",
      "Wall time: 561 ms\n"
     ]
    }
   ],
   "source": [
    "%%time\n",
    "train_data, test_data = get_train_test_split(ratings_df,(1,5),['user_id','book_id','rating'])"
   ]
  },
  {
   "cell_type": "code",
   "execution_count": 6,
   "metadata": {},
   "outputs": [
    {
     "name": "stdout",
     "output_type": "stream",
     "text": [
      "{'RMSE': 0.9031184814271621, 'MAE': 0.7129333257823838, 'MSE': 0.8156229914953034}\n",
      "CPU times: user 10.4 s, sys: 3.54 ms, total: 10.4 s\n",
      "Wall time: 10.4 s\n"
     ]
    }
   ],
   "source": [
    "%%time\n",
    "my_model = SVD()\n",
    "predictions, _ =  train_and_evaluate(train_data,test_data,my_model)"
   ]
  },
  {
   "cell_type": "code",
   "execution_count": 7,
   "metadata": {},
   "outputs": [
    {
     "name": "stdout",
     "output_type": "stream",
     "text": [
      "{'RMSE': 0.9022957354036211, 'MAE': 0.711281814251311, 'MSE': 0.8141375941275614}\n",
      "CPU times: user 1min 10s, sys: 36.2 ms, total: 1min 10s\n",
      "Wall time: 1min 10s\n"
     ]
    }
   ],
   "source": [
    "%%time\n",
    "my_model = SVDpp()\n",
    "predictions, _ =  train_and_evaluate(train_data,test_data,my_model)"
   ]
  },
  {
   "cell_type": "code",
   "execution_count": 8,
   "metadata": {},
   "outputs": [
    {
     "name": "stdout",
     "output_type": "stream",
     "text": [
      "{'RMSE': 1.068240494146439, 'MAE': 0.83529425152168, 'MSE': 1.1411377533342282}\n",
      "CPU times: user 19.4 s, sys: 18.4 ms, total: 19.4 s\n",
      "Wall time: 19.4 s\n"
     ]
    }
   ],
   "source": [
    "%%time\n",
    "my_model = NMF()\n",
    "predictions, _ =  train_and_evaluate(train_data,test_data,my_model)"
   ]
  },
  {
   "cell_type": "code",
   "execution_count": 9,
   "metadata": {},
   "outputs": [
    {
     "name": "stdout",
     "output_type": "stream",
     "text": [
      "Computing the msd similarity matrix...\n",
      "Done computing similarity matrix.\n",
      "{'RMSE': 1.0229484493960719, 'MAE': 0.7856028029602243, 'MSE': 1.0464235301218279}\n",
      "CPU times: user 2.84 s, sys: 1.63 s, total: 4.47 s\n",
      "Wall time: 4.44 s\n"
     ]
    }
   ],
   "source": [
    "%%time\n",
    "my_model = KNNBasic()\n",
    "_,_ =  train_and_evaluate(train_data,test_data,my_model)"
   ]
  },
  {
   "cell_type": "code",
   "execution_count": 10,
   "metadata": {},
   "outputs": [
    {
     "name": "stdout",
     "output_type": "stream",
     "text": [
      "Computing the msd similarity matrix...\n",
      "Done computing similarity matrix.\n",
      "{'RMSE': 0.9886784606741807, 'MAE': 0.7614928528832398, 'MSE': 0.9774850986010675}\n",
      "CPU times: user 3 s, sys: 739 ms, total: 3.74 s\n",
      "Wall time: 3.72 s\n"
     ]
    }
   ],
   "source": [
    "%%time\n",
    "my_model = KNNWithMeans()\n",
    "_,_ =  train_and_evaluate(train_data,test_data,my_model)"
   ]
  },
  {
   "cell_type": "code",
   "execution_count": 11,
   "metadata": {},
   "outputs": [
    {
     "name": "stdout",
     "output_type": "stream",
     "text": [
      "Computing the msd similarity matrix...\n",
      "Done computing similarity matrix.\n",
      "{'RMSE': 0.9881601278743287, 'MAE': 0.7605306672356535, 'MSE': 0.9764604383206097}\n",
      "CPU times: user 3.18 s, sys: 764 ms, total: 3.94 s\n",
      "Wall time: 3.92 s\n"
     ]
    }
   ],
   "source": [
    "%%time\n",
    "my_model = KNNWithZScore()\n",
    "_,_ =  train_and_evaluate(train_data,test_data,my_model)"
   ]
  },
  {
   "cell_type": "code",
   "execution_count": 12,
   "metadata": {},
   "outputs": [
    {
     "name": "stdout",
     "output_type": "stream",
     "text": [
      "{'RMSE': 1.016505438468984, 'MAE': 0.7788861749997715, 'MSE': 1.0332833064370215}\n",
      "CPU times: user 11.6 s, sys: 37 ms, total: 11.6 s\n",
      "Wall time: 11.6 s\n"
     ]
    }
   ],
   "source": [
    "%%time\n",
    "my_model = CoClustering()\n",
    "_,_ =  train_and_evaluate(train_data,test_data,my_model)"
   ]
  },
  {
   "cell_type": "code",
   "execution_count": 13,
   "metadata": {},
   "outputs": [],
   "source": [
    "# %%time\n",
    "# my_model = SlopeOne()\n",
    "# _,_ =  train_and_evaluate(train_data,test_data,my_model)"
   ]
  }
 ],
 "metadata": {
  "kernelspec": {
   "display_name": "Python 3",
   "language": "python",
   "name": "python3"
  },
  "language_info": {
   "codemirror_mode": {
    "name": "ipython",
    "version": 3
   },
   "file_extension": ".py",
   "mimetype": "text/x-python",
   "name": "python",
   "nbconvert_exporter": "python",
   "pygments_lexer": "ipython3",
   "version": "3.7.6"
  }
 },
 "nbformat": 4,
 "nbformat_minor": 4
}
